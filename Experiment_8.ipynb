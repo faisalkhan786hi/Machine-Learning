{
  "nbformat": 4,
  "nbformat_minor": 0,
  "metadata": {
    "colab": {
      "provenance": [],
      "authorship_tag": "ABX9TyMnun/FERHqO763aKlN0lWl",
      "include_colab_link": true
    },
    "kernelspec": {
      "name": "python3",
      "display_name": "Python 3"
    },
    "language_info": {
      "name": "python"
    }
  },
  "cells": [
    {
      "cell_type": "markdown",
      "metadata": {
        "id": "view-in-github",
        "colab_type": "text"
      },
      "source": [
        "<a href=\"https://colab.research.google.com/github/faisalkhan786hi/Machine-Learning/blob/main/Experiment_8.ipynb\" target=\"_parent\"><img src=\"https://colab.research.google.com/assets/colab-badge.svg\" alt=\"Open In Colab\"/></a>"
      ]
    },
    {
      "cell_type": "markdown",
      "source": [
        "# **EXPERIMENT - 8**\n",
        "\n",
        "---\n",
        "\n"
      ],
      "metadata": {
        "id": "KjwEbRY9m6xD"
      }
    },
    {
      "cell_type": "markdown",
      "source": [
        "# Linear Discriminant Analysis on the IRIS dataset"
      ],
      "metadata": {
        "id": "C9wpWejkm8Sg"
      }
    },
    {
      "cell_type": "code",
      "source": [
        "import pandas as pd\n",
        "from sklearn.model_selection import train_test_split\n",
        "from sklearn.discriminant_analysis import LinearDiscriminantAnalysis\n",
        "\n",
        "# Load the dataset from your DataFrame\n",
        "df = pd.read_csv(\"/content/iris.csv\")\n",
        "X = df.drop(\"Class\", axis=1)\n",
        "y = df[\"Class\"]\n",
        "\n",
        "# Split the dataset into training and testing sets\n",
        "X_train, X_test, y_train, y_test = train_test_split(X, y, test_size=0.3, random_state=0)\n",
        "\n",
        "# Instantiate an instance of the LinearDiscriminantAnalysis class\n",
        "lda = LinearDiscriminantAnalysis()\n",
        "\n",
        "# Fit the LDA model on the training data\n",
        "lda.fit(X_train, y_train)\n",
        "\n",
        "# Predict the labels of the test data using the trained LDA model\n",
        "y_pred = lda.predict(X_test)\n",
        "\n",
        "# Evaluate the performance of the LDA model using the accuracy score\n",
        "accuracy = lda.score(X_test, y_test)\n",
        "print(\"Accuracy:\", accuracy)\n"
      ],
      "metadata": {
        "colab": {
          "base_uri": "https://localhost:8080/"
        },
        "id": "eqZmWB5b_Bn2",
        "outputId": "d0e41ae5-36a9-4fb3-b08d-9a80b1dbf813"
      },
      "execution_count": 3,
      "outputs": [
        {
          "output_type": "stream",
          "name": "stdout",
          "text": [
            "Accuracy: 0.9777777777777777\n"
          ]
        }
      ]
    }
  ]
}